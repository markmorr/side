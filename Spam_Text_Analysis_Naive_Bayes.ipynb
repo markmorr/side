{
 "cells": [
  {
   "cell_type": "markdown",
   "metadata": {},
   "source": []
  },
  {
   "cell_type": "code",
   "execution_count": 36,
   "metadata": {},
   "outputs": [
    {
     "name": "stdout",
     "output_type": "stream",
     "text": [
      "ready yo\n"
     ]
    }
   ],
   "source": [
    "\n",
    "import pandas as pd\n",
    "import numpy as np\n",
    "import math\n",
    "from sklearn.feature_extraction.text import TfidfVectorizer\n",
    "from nltk.corpus import stopwords\n",
    "from sklearn.linear_model import LogisticRegression\n",
    "from sklearn import metrics\n",
    "from sklearn.metrics import confusion_matrix\n",
    "from sklearn.metrics import roc_auc_score\n",
    "from sklearn.metrics import roc_curve\n",
    "import matplotlib.pyplot as plt\n",
    "data = pd.read_csv(r'Lab 4 Data\\YouTube-Spam-Collection-v1\\Youtube04-Eminem.csv')\n",
    "\n",
    "\n",
    "data = data.sort_values(by = 'CLASS')\n",
    "data.reset_index(inplace=True)\n",
    "data.drop(columns=['index'], inplace=True)\n",
    "\n",
    "\n"
   ]
  },
  {
   "cell_type": "markdown",
   "metadata": {},
   "source": []
  },
  {
   "cell_type": "code",
   "execution_count": 37,
   "metadata": {},
   "outputs": [
    {
     "data": {
      "text/html": [
       "<div>\n",
       "<style scoped>\n",
       "    .dataframe tbody tr th:only-of-type {\n",
       "        vertical-align: middle;\n",
       "    }\n",
       "\n",
       "    .dataframe tbody tr th {\n",
       "        vertical-align: top;\n",
       "    }\n",
       "\n",
       "    .dataframe thead th {\n",
       "        text-align: right;\n",
       "    }\n",
       "</style>\n",
       "<table border=\"1\" class=\"dataframe\">\n",
       "  <thead>\n",
       "    <tr style=\"text-align: right;\">\n",
       "      <th></th>\n",
       "      <th>COMMENT_ID</th>\n",
       "      <th>AUTHOR</th>\n",
       "      <th>DATE</th>\n",
       "      <th>CONTENT</th>\n",
       "      <th>CLASS</th>\n",
       "    </tr>\n",
       "  </thead>\n",
       "  <tbody>\n",
       "    <tr>\n",
       "      <th>162</th>\n",
       "      <td>z12ithhjbzzhwdmy504cfd4ypkiiizlbg3k</td>\n",
       "      <td>Ali Baza</td>\n",
       "      <td>2015-05-27T18:33:10.607000</td>\n",
       "      <td>Still listening,still same pleasure﻿</td>\n",
       "      <td>0</td>\n",
       "    </tr>\n",
       "    <tr>\n",
       "      <th>163</th>\n",
       "      <td>z12yzzqoozqieho4x04ci12qbrzhyzyyvjg</td>\n",
       "      <td>iSmartKid</td>\n",
       "      <td>2015-05-28T03:27:18.079000</td>\n",
       "      <td>2015 but Im still listening to this!﻿</td>\n",
       "      <td>0</td>\n",
       "    </tr>\n",
       "    <tr>\n",
       "      <th>164</th>\n",
       "      <td>z13fybbinsbfsxkmp22xcdlr1lqjuzi5i04</td>\n",
       "      <td>Jodie Jackson</td>\n",
       "      <td>2015-05-28T01:55:43.908000</td>\n",
       "      <td>How is this the most watched Eminem video, it ...</td>\n",
       "      <td>0</td>\n",
       "    </tr>\n",
       "    <tr>\n",
       "      <th>165</th>\n",
       "      <td>z12rfprhgnipxnlhy04cifqgxkjaydsw0b4</td>\n",
       "      <td>This Hans</td>\n",
       "      <td>2015-05-26T11:23:52.048000</td>\n",
       "      <td>it is wonderful﻿</td>\n",
       "      <td>0</td>\n",
       "    </tr>\n",
       "    <tr>\n",
       "      <th>166</th>\n",
       "      <td>z12ied2xrpvuyrhkw224hxphqrzeev5s2</td>\n",
       "      <td>Cristian Sepulveda</td>\n",
       "      <td>2015-05-28T01:47:29.843000</td>\n",
       "      <td>Rihana, Love Me. :(﻿</td>\n",
       "      <td>0</td>\n",
       "    </tr>\n",
       "  </tbody>\n",
       "</table>\n",
       "</div>"
      ],
      "text/plain": [
       "                              COMMENT_ID              AUTHOR  \\\n",
       "162  z12ithhjbzzhwdmy504cfd4ypkiiizlbg3k            Ali Baza   \n",
       "163  z12yzzqoozqieho4x04ci12qbrzhyzyyvjg           iSmartKid   \n",
       "164  z13fybbinsbfsxkmp22xcdlr1lqjuzi5i04       Jodie Jackson   \n",
       "165  z12rfprhgnipxnlhy04cifqgxkjaydsw0b4           This Hans   \n",
       "166    z12ied2xrpvuyrhkw224hxphqrzeev5s2  Cristian Sepulveda   \n",
       "\n",
       "                           DATE  \\\n",
       "162  2015-05-27T18:33:10.607000   \n",
       "163  2015-05-28T03:27:18.079000   \n",
       "164  2015-05-28T01:55:43.908000   \n",
       "165  2015-05-26T11:23:52.048000   \n",
       "166  2015-05-28T01:47:29.843000   \n",
       "\n",
       "                                               CONTENT  CLASS  \n",
       "162               Still listening,still same pleasure﻿      0  \n",
       "163              2015 but Im still listening to this!﻿      0  \n",
       "164  How is this the most watched Eminem video, it ...      0  \n",
       "165                                   it is wonderful﻿      0  \n",
       "166                               Rihana, Love Me. :(﻿      0  "
      ]
     },
     "execution_count": 37,
     "metadata": {},
     "output_type": "execute_result"
    }
   ],
   "source": [
    "H = data[data.CLASS==0].sum()\n",
    "H = math.floor(.8*203)\n",
    "S = math.floor(.8*(245))\n",
    "\n",
    "df = data\n",
    "train = df.iloc[0:162]\n",
    "train = train.append(df.iloc[203:399])\n",
    "test = df.iloc[162:203]\n",
    "test = test.append(df.iloc[399:])\n",
    "train.head()\n",
    "test.head()"
   ]
  },
  {
   "cell_type": "markdown",
   "metadata": {},
   "source": []
  },
  {
   "cell_type": "code",
   "execution_count": 38,
   "metadata": {},
   "outputs": [],
   "source": [
    "\n",
    "vectorizer = TfidfVectorizer() \n",
    "vectors = vectorizer.fit_transform(df['CONTENT'])\n",
    "feature_names = vectorizer.get_feature_names()\n",
    "dense = vectors.todense()\n",
    "denselist = dense.tolist()\n",
    "df2 = pd.DataFrame(denselist, columns=feature_names)\n",
    "\n",
    "\n",
    "pre_x_train = denselist[0:162]\n",
    "pre_x_train.extend(denselist[203:399])\n",
    "x_train = pd.DataFrame(pre_x_train)\n",
    "y_train = train['CLASS']\n",
    "\n",
    "pre_x_test = denselist[162:203]\n",
    "pre_x_test.extend(denselist[399:])\n",
    "x_test = pd.DataFrame(pre_x_test)\n",
    "y_test = test['CLASS']"
   ]
  },
  {
   "cell_type": "markdown",
   "metadata": {},
   "source": []
  },
  {
   "cell_type": "markdown",
   "metadata": {},
   "source": []
  },
  {
   "cell_type": "code",
   "execution_count": 39,
   "metadata": {},
   "outputs": [
    {
     "name": "stdout",
     "output_type": "stream",
     "text": [
      "Optimal lambda: 0.1\n",
      "okay \n"
     ]
    }
   ],
   "source": [
    "\n",
    "from sklearn.metrics import recall_score\n",
    "from sklearn.metrics import precision_score\n",
    "from sklearn.metrics import accuracy_score\n",
    "from sklearn.metrics import f1_score\n",
    "from sklearn.metrics import fbeta_score\n",
    "from sklearn.linear_model import RidgeClassifierCV\n",
    "from sklearn.linear_model import LogisticRegressionCV\n",
    "\n",
    "# part i\n",
    "#training set\n",
    "myarr = [10e-5, 10e-4, 10e-3, 10e-3, 10e-2, 10e-1, 10e0, 10e1, 10e2, 10e3, 10e4, 10e5]\n",
    "a = np.array(myarr)\n",
    "a = np.power(a,-1) #adjusting by raising to -1 exponent because the parameter is C^-1\n",
    "ridgeclassifier = RidgeClassifierCV(alphas=a, cv=5).fit(x_train, y_train)\n",
    "ridgeclassifier.score(x_train, y_train)\n",
    "ridgeclassifier.get_params()\n",
    "optimal_lambda = ridgeclassifier.alpha_\n",
    "print(\"Optimal lambda: \" + str(optimal_lambda))\n",
    "\n",
    "\n",
    "\n",
    "def print_ROC(y_true, y_pred, title):\n",
    "    auc_score = roc_auc_score(y_true, y_pred)  \n",
    "    fpr, trp, thresholds_test = roc_curve(y_true, y_pred)\n",
    "    plt.plot([0,1], [0,1], 'r--')\n",
    "    plt.plot(fpr, trp, 'b', label = title)\n",
    "    plt.xlabel('False Positive Rate')\n",
    "    plt.ylabel('True Positive Rate')\n",
    "    plt.title(title)\n",
    "    plt.show()\n",
    "    print(auc_score)\n",
    "    \n",
    "def print_metrics(input_y_true, input_y_pred):\n",
    "    # print(\"Confusion matrix: \" + str(confusion_matrix(input_y_true,input_y_pred))\n",
    "    x = str(accuracy_score(input_y_true, input_y_pred))\n",
    "    print(\"Accuracy Score: \" + x)\n",
    "    x = str(precision_score(input_y_true, input_y_pred))\n",
    "    print(\"Precision: \" + x)\n",
    "    x = str(recall_score(input_y_true, input_y_pred))\n",
    "    print(\"Recall: \" + x)\n",
    "    x = str(f1_score(input_y_true, input_y_pred))\n",
    "    print(\"F1 Score: \" + x)\n",
    "    \n",
    "    "
   ]
  },
  {
   "cell_type": "markdown",
   "metadata": {},
   "source": []
  },
  {
   "cell_type": "code",
   "execution_count": 40,
   "metadata": {},
   "outputs": [
    {
     "name": "stdout",
     "output_type": "stream",
     "text": [
      "Accuracy Score: 1.0\n",
      "Precision: 1.0\n",
      "Recall: 1.0\n",
      "F1 Score: 1.0\n"
     ]
    },
    {
     "data": {
      "image/png": "[encoded data removed]",
      "text/plain": [
       "<Figure size 432x288 with 1 Axes>"
      ]
     },
     "metadata": {
      "needs_background": "light"
     },
     "output_type": "display_data"
    },
    {
     "name": "stdout",
     "output_type": "stream",
     "text": [
      "1.0\n"
     ]
    }
   ],
   "source": [
    "\n",
    "y_pred = ridgeclassifier.predict(x_train)\n",
    "y_pred = pd.Series(y_pred)\n",
    "y_true = y_train\n",
    "print_metrics(y_true, y_pred)\n",
    "print_ROC(y_true,y_pred, 'L2 Penalized Logit Training Set ROC Curve')\n",
    "#okay this one looks kinda wrong\n"
   ]
  },
  {
   "cell_type": "markdown",
   "metadata": {},
   "source": []
  },
  {
   "cell_type": "code",
   "execution_count": 27,
   "metadata": {},
   "outputs": [
    {
     "name": "stdout",
     "output_type": "stream",
     "text": [
      "Accuracy Score: 0.9222222222222223\n",
      "Precision: 0.9565217391304348\n",
      "Recall: 0.8979591836734694\n",
      "F1 Score: 0.9263157894736843\n"
     ]
    },
    {
     "data": {
      "image/png": "[encoded data removed]",
      "text/plain": [
       "<Figure size 432x288 with 1 Axes>"
      ]
     },
     "metadata": {
      "needs_background": "light"
     },
     "output_type": "display_data"
    },
    {
     "name": "stdout",
     "output_type": "stream",
     "text": [
      "0.9245893479342957\n",
      "A beta of 0.1 yields an F-beta score of: 0.9559044955904497\n",
      "A beta of 0.5 yields an F-beta score of: 0.9442060085836909\n",
      "A beta of 0.9 yields an F-beta score of: 0.9293966623876764\n",
      "A beta of 1 yields an F-beta score of: 0.9263157894736843\n",
      "A beta of 5 yields an F-beta score of: 0.9000786782061369\n",
      "A beta of 10 yields an F-beta score of: 0.8985038414880712\n"
     ]
    }
   ],
   "source": [
    "y_pred = ridgeclassifier.predict(x_test)\n",
    "y_pred = pd.Series(y_pred)\n",
    "y_true = y_test\n",
    "print_metrics(y_true, y_pred)\n",
    "print_ROC(y_true,y_pred, 'L2 Penalized Logit Test Set ROC Curve')\n",
    "\n",
    "beta_array = [.1, .5, .9, 1, 5, 10]\n",
    "for x in beta_array:\n",
    "    Fb = fbeta_score(y_true, y_pred, beta=x)\n",
    "    print(\"A beta of \" + str(x) + \" yields an F-beta score of: \" + str(Fb))\n",
    "    \n",
    "\n",
    "\n"
   ]
  },
  {
   "cell_type": "code",
   "execution_count": null,
   "metadata": {},
   "outputs": [],
   "source": [
    "# Precision is more important in this scenario. We do not want to be flagging\n",
    "# real emails as spam (false positives) and sending them to the spam folder potentially--that does more harm\n",
    "# than allowing a few spam emails into the inbox (false negatives).\n"
   ]
  },
  {
   "cell_type": "markdown",
   "metadata": {},
   "source": []
  },
  {
   "cell_type": "markdown",
   "metadata": {},
   "source": []
  },
  {
   "cell_type": "code",
   "execution_count": null,
   "metadata": {},
   "outputs": [],
   "source": []
  },
  {
   "cell_type": "code",
   "execution_count": 41,
   "metadata": {},
   "outputs": [
    {
     "name": "stdout",
     "output_type": "stream",
     "text": [
      "start\n",
      "Accuracy Score: 1.0\n",
      "Precision: 1.0\n",
      "Recall: 1.0\n",
      "F1 Score: 1.0\n"
     ]
    },
    {
     "data": {
      "image/png": "[encoded data removed]",
      "text/plain": [
       "<Figure size 432x288 with 1 Axes>"
      ]
     },
     "metadata": {
      "needs_background": "light"
     },
     "output_type": "display_data"
    },
    {
     "name": "stdout",
     "output_type": "stream",
     "text": [
      "1.0\n"
     ]
    }
   ],
   "source": [
    "print('start')\n",
    "logisticclassifier = LogisticRegressionCV(cv=5, random_state=0, penalty='l1', solver='saga', max_iter = 4000).fit(x_train, y_train)\n",
    "y_pred = logisticclassifier.predict(x_train)\n",
    "y_pred = pd.Series(y_pred)\n",
    "y_true = y_train\n",
    "print_metrics(y_true, y_pred)\n",
    "print_ROC(y_true,y_pred, 'L1 Penalized Logit Training Set ROC Curve')\n",
    "##########PLEASE BE ADVISED THIS TAKES LIKE 3 MINUTES TO RUN, SORRY I WAS GETTING CONVERGENCE ISSUES\n",
    "\n"
   ]
  },
  {
   "cell_type": "markdown",
   "metadata": {},
   "source": []
  },
  {
   "cell_type": "code",
   "execution_count": 42,
   "metadata": {},
   "outputs": [
    {
     "name": "stdout",
     "output_type": "stream",
     "text": [
      "Accuracy Score: 0.9\n",
      "Precision: 0.9761904761904762\n",
      "Recall: 0.8367346938775511\n",
      "F1 Score: 0.9010989010989012\n"
     ]
    },
    {
     "data": {
      "image/png": "[encoded data removed]",
      "text/plain": [
       "<Figure size 432x288 with 1 Axes>"
      ]
     },
     "metadata": {
      "needs_background": "light"
     },
     "output_type": "display_data"
    },
    {
     "name": "stdout",
     "output_type": "stream",
     "text": [
      "0.906172224987556\n"
     ]
    }
   ],
   "source": [
    "y_pred = logisticclassifier.predict(x_test)\n",
    "y_pred = pd.Series(y_pred)\n",
    "y_true = y_test\n",
    "print_metrics(y_true, y_pred)\n",
    "print_ROC(y_true,y_pred, 'L1 Penalized Logit Test Set ROC Curve')"
   ]
  },
  {
   "cell_type": "markdown",
   "metadata": {},
   "source": []
  },
  {
   "cell_type": "code",
   "execution_count": 43,
   "metadata": {},
   "outputs": [
    {
     "name": "stdout",
     "output_type": "stream",
     "text": [
      "Accuracy Score: 0.9972067039106145\n",
      "Precision: 1.0\n",
      "Recall: 0.9948979591836735\n",
      "F1 Score: 0.9974424552429668\n"
     ]
    },
    {
     "data": {
      "image/png": "[encoded data removed]",
      "text/plain": [
       "<Figure size 432x288 with 1 Axes>"
      ]
     },
     "metadata": {
      "needs_background": "light"
     },
     "output_type": "display_data"
    },
    {
     "name": "stdout",
     "output_type": "stream",
     "text": [
      "0.9974489795918368\n",
      "Accuracy Score: 0.8666666666666667\n",
      "Precision: 0.8032786885245902\n",
      "Recall: 1.0\n",
      "F1 Score: 0.8909090909090909\n"
     ]
    },
    {
     "data": {
      "image/png": "[encoded data removed]",
      "text/plain": [
       "<Figure size 432x288 with 1 Axes>"
      ]
     },
     "metadata": {
      "needs_background": "light"
     },
     "output_type": "display_data"
    },
    {
     "name": "stdout",
     "output_type": "stream",
     "text": [
      "0.8536585365853658\n"
     ]
    }
   ],
   "source": [
    "from sklearn.naive_bayes import GaussianNB\n",
    "nbclassifier = GaussianNB()\n",
    "nbclassifier.fit(x_train, y_train)\n",
    "GaussianNB()\n",
    "\n",
    "train_proba = nbclassifier.predict_proba(x_train)\n",
    "train_proba = train_proba[:,1]\n",
    "test_proba = nbclassifier.predict_proba(x_test)\n",
    "test_proba = test_proba[:,1]\n",
    "\n",
    "################## Training ###################\n",
    "y_pred = nbclassifier.predict(x_train)\n",
    "y_pred = pd.Series(y_pred)\n",
    "y_true = y_train\n",
    "print_metrics(y_true, y_pred)\n",
    "print_ROC(y_true,y_pred, 'Naive Bayes Training Set ROC Curve')\n",
    "\n",
    "\n",
    "##################Test#######################\n",
    "y_pred = nbclassifier.predict(x_test)\n",
    "y_pred = pd.Series(y_pred)\n",
    "y_true = y_test\n",
    "print_metrics(y_true, y_pred)\n",
    "print_ROC(y_true,y_pred, 'Naive Bayes Test Set ROC Curve')"
   ]
  },
  {
   "cell_type": "code",
   "execution_count": null,
   "metadata": {},
   "outputs": [],
   "source": []
  }
 ],
 "metadata": {
  "kernelspec": {
   "display_name": "Python 3",
   "language": "python",
   "name": "python3"
  },
  "language_info": {
   "codemirror_mode": {
    "name": "ipython",
    "version": 3
   },
   "file_extension": ".py",
   "mimetype": "text/x-python",
   "name": "python",
   "nbconvert_exporter": "python",
   "pygments_lexer": "ipython3",
   "version": "3.8.5"
  }
 },
 "nbformat": 4,
 "nbformat_minor": 4
}
