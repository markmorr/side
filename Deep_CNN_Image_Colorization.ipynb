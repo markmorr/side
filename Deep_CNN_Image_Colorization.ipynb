{
  "nbformat": 4,
  "nbformat_minor": 0,
  "metadata": {
    "accelerator": "GPU",
    "colab": {
      "name": "Deep_CNN_Image_Colorization",
      "provenance": [],
      "collapsed_sections": [],
      "authorship_tag": "ABX9TyOq/eR4qihO9gM7X8AXoRxC",
      "include_colab_link": true
    },
    "kernelspec": {
      "display_name": "Python 3",
      "name": "python3"
    }
  },
  "cells": [
    {
      "cell_type": "markdown",
      "metadata": {
        "id": "view-in-github",
        "colab_type": "text"
      },
      "source": [
        "<a href=\"https://colab.research.google.com/github/markmorr/general/blob/main/Deep_CNN_Image_Colorization.ipynb\" target=\"_parent\"><img src=\"https://colab.research.google.com/assets/colab-badge.svg\" alt=\"Open In Colab\"/></a>"
      ]
    },
    {
      "cell_type": "code",
      "metadata": {
        "id": "WG77wR8tXOS1"
      },
      "source": [
        "import pandas as pd\n",
        "import numpy as np\n",
        "import tensorflow as tf\n",
        "import math\n",
        "import timeit\n",
        "import matplotlib.pyplot as plt\n",
        "from six.moves import cPickle as pickle\n",
        "import os\n",
        "import platform\n",
        "from subprocess import check_output\n",
        "import keras\n",
        "import scipy as sp\n",
        "import seaborn as sns\n",
        "import tensorflow as tf\n",
        "import tqdm\n",
        "from keras import regularizers\n",
        "from keras.callbacks import ModelCheckpoint\n",
        "from keras.datasets import cifar10\n",
        "from keras.layers import (\n",
        "    Activation,\n",
        "    Conv2D,\n",
        "    Dense,\n",
        "    Dropout,\n",
        "    Flatten,\n",
        "    MaxPooling2D,\n",
        "    Reshape,\n",
        "    Softmax,\n",
        ")\n"
      ],
      "execution_count": 49,
      "outputs": []
    },
    {
      "cell_type": "code",
      "metadata": {
        "colab": {
          "base_uri": "https://localhost:8080/"
        },
        "id": "ftUXN0NWLhZY",
        "outputId": "6c9ab8d1-8d18-4cbd-dd9e-f2fef24ae2c0"
      },
      "source": [
        "from keras.models import Sequential\n",
        "from keras.preprocessing.image import ImageDataGenerator\n",
        "from keras.utils import np_utils\n",
        "from scipy.spatial.distance import euclidean\n",
        "from scipy.spatial import distance\n",
        "from sklearn.cluster import KMeans\n",
        "from sklearn.metrics import accuracy_score\n",
        "from sklearn.metrics.pairwise import euclidean_distances\n",
        "from sklearn.model_selection import train_test_split\n",
        "from sklearn.neighbors import DistanceMetric\n",
        "from sklearn.preprocessing import LabelEncoder, OneHotEncoder\n",
        "from tensorflow.python.client import device_lib\n",
        "from keras.datasets import cifar10\n",
        "\n",
        "import random\n",
        "from random import randrange\n",
        "print('imports done')\n"
      ],
      "execution_count": 50,
      "outputs": [
        {
          "output_type": "stream",
          "text": [
            "imports done\n"
          ],
          "name": "stdout"
        }
      ]
    },
    {
      "cell_type": "code",
      "metadata": {
        "id": "3DQ5zolPYnd4"
      },
      "source": [
        "(x_train, y_train), (x_test, y_test) = cifar10.load_data()"
      ],
      "execution_count": 51,
      "outputs": []
    },
    {
      "cell_type": "code",
      "metadata": {
        "colab": {
          "base_uri": "https://localhost:8080/"
        },
        "id": "OQs8Qr7iLXWM",
        "outputId": "7e25ed08-a5c4-437e-c019-1fd694f35b47"
      },
      "source": [
        "#part b ##############\n",
        "def collect_all_birds(images,labels):\n",
        "   \n",
        "    indexes = np.argwhere(labels == 2)\n",
        "    indexes = indexes[:,0]\n",
        "    #it yields a 2 column array for some reason--just extract the first one\n",
        "    index_list = list(indexes)\n",
        "    #for i in index_list: didn't work\n",
        "     # samples = x[i]\n",
        "    samples = [images[i] for i in index_list]\n",
        "    return samples\n",
        "\n",
        "\n",
        "x_train_ = collect_all_birds(x_train, y_train)\n",
        "x_test_ = collect_all_birds(x_test, y_test)\n",
        "print(x_train.size)"
      ],
      "execution_count": 52,
      "outputs": [
        {
          "output_type": "stream",
          "text": [
            "153600000\n"
          ],
          "name": "stdout"
        }
      ]
    },
    {
      "cell_type": "code",
      "metadata": {
        "colab": {
          "base_uri": "https://localhost:8080/"
        },
        "id": "NLkQZGl7MzxB",
        "outputId": "9c6eacde-2e23-4499-c660-083856793b14"
      },
      "source": [
        "#print shape to prove it's the right shape!*\n",
        "\n",
        "#print shape to show it worked in google colab\n",
        "tb = np.concatenate((x_train, x_test))\n",
        "print(tb.size)\n",
        "\n",
        "#thanks for the helpful error message numpy"
      ],
      "execution_count": 53,
      "outputs": [
        {
          "output_type": "stream",
          "text": [
            "184320000\n"
          ],
          "name": "stdout"
        }
      ]
    },
    {
      "cell_type": "code",
      "metadata": {
        "colab": {
          "base_uri": "https://localhost:8080/"
        },
        "id": "4UX9UpjGMiVv",
        "outputId": "2f3c4b10-fde7-4412-ad1a-615bccab44f4"
      },
      "source": [
        "RGB_vectors = np.zeros(shape=(6000,3))\n",
        "#tb is the whole dataset (train + test) of birds\n",
        "#using all of the pixels now in a for loop--for each pixel in each image, this is just picking the final pixel in each image\n",
        "#this is not really randomly drawing--> it picks the bottom right pixel as our dataset of RGB colors to find clusters in\n",
        "#fairly inefficient too\n",
        "import random\n",
        "for i in range(0,6000):\n",
        "  j = random.randint(0,31) #randint is inclusive on the range\n",
        "  k = random.randint(0,31)\n",
        "  RGB_vectors[i] = tb[i][j][k]\n",
        "\n",
        "print(RGB_vectors.shape)\n",
        "print('An example RGB vector: {}'.format(RGB_vectors[0]))\n"
      ],
      "execution_count": 54,
      "outputs": [
        {
          "output_type": "stream",
          "text": [
            "(6000, 3)\n",
            "An example RGB vector: [145. 123.  38.]\n"
          ],
          "name": "stdout"
        }
      ]
    },
    {
      "cell_type": "code",
      "metadata": {
        "colab": {
          "base_uri": "https://localhost:8080/"
        },
        "id": "7Zw7x-_UJ4GE",
        "outputId": "f94f0d56-5db5-4296-e877-3b686d52659e"
      },
      "source": [
        "from sklearn.cluster import KMeans\n",
        "kmeans = KMeans(n_clusters = 4, random_state=0).fit(RGB_vectors)\n",
        "kmeans_output = kmeans.labels_   \n",
        "main_colors = kmeans.cluster_centers_ #this  is poorly named\n",
        "\n",
        "import math\n",
        "from scipy.spatial import distance\n",
        "tetrachrome = np.zeros(shape=(6000,32,32,3))\n",
        "#convert to integers \n",
        "main_colors = main_colors.astype(int)\n",
        "print(main_colors)\n",
        "print('Each row is an RGB vector depicting one of the main colors found by KMeans')\n",
        "print('These color clusters will now serve as the 4 output classes')"
      ],
      "execution_count": 55,
      "outputs": [
        {
          "output_type": "stream",
          "text": [
            "[[158 156 145]\n",
            " [ 46  43  39]\n",
            " [215 219 219]\n",
            " [108 103  86]]\n",
            "Each row is an RGB vector depicting one of the main colors found by KMeans\n",
            "These color clusters will now serve as the 4 output classes\n"
          ],
          "name": "stdout"
        }
      ]
    },
    {
      "cell_type": "code",
      "metadata": {
        "colab": {
          "base_uri": "https://localhost:8080/"
        },
        "id": "Gh7j0zoNJ4pS",
        "outputId": "04fc7ca1-d378-4487-deeb-9dd5ebe3e932"
      },
      "source": [
        "#Recolorizing every single image in the dataset now, pixel by pixel  \n",
        " #finding the k class color that minimizes the euclidean distance between the old pixel and the output color\n",
        "tetra = np.zeros(shape=(6000,32,32,4))\n",
        "for i in range(0,6000):\n",
        "    for j in range(0,32):\n",
        "        for k in range(0,32):\n",
        "            current_minimum_dist = float('inf') #just a stand-in large number.maybe replace with 441.67 for now\n",
        "            best_color_index = 0\n",
        "            for u in range(0,4):\n",
        "                \n",
        "                dist = distance.euclidean(tb[i][j][k], main_colors[u])\n",
        "                if dist < current_minimum_dist:\n",
        "                    current_minimum_dist = dist\n",
        "                    best_color_index = u\n",
        "            tetrachrome[i][j][k] = main_colors[best_color_index]\n",
        "            tetra[i][j][k][best_color_index] = 1\n",
        "            \n",
        "print('done!!!!!!!!!')\n"
      ],
      "execution_count": 56,
      "outputs": [
        {
          "output_type": "stream",
          "text": [
            "done!!!!!!!!!\n"
          ],
          "name": "stdout"
        }
      ]
    },
    {
      "cell_type": "code",
      "metadata": {
        "id": "1RGIlesO45zs"
      },
      "source": [
        "# import pdb\r\n",
        "# from scipy.spatial import cKDTree\r\n",
        "# # Input image : img\r\n",
        "# colors = main_colors\r\n",
        "# out_img = colors[cKDTree(colors).query(tb,k=1)[1]]\r\n",
        "# print(out_img.shape)\r\n",
        "# print(out_img)"
      ],
      "execution_count": 57,
      "outputs": []
    },
    {
      "cell_type": "code",
      "metadata": {
        "colab": {
          "base_uri": "https://localhost:8080/"
        },
        "id": "EUgpAo3oSWNG",
        "outputId": "16feac15-09a5-40d1-838d-31e30a7e023d"
      },
      "source": [
        "tetrachrome = tetrachrome.astype(int) #necessary? yes\n",
        "numTrain, imgRows, imgCols, imgChannels = x_train.shape\n",
        "print(imgRows)\n",
        "print(imgCols)\n",
        "for x in range(0,10):\n",
        "  print(tetrachrome[x][0][0]) #just printing the upper left pixel of every image\n",
        "  \n",
        "# for x in range(0,10):\n",
        "#   print(out_img[x][0][0]) #just printing the upper left pixel of every image\n",
        "for x in range(0,10):\n",
        "  print(tetra[x][0][0]) #just printing the upper left pixel of every image"
      ],
      "execution_count": 58,
      "outputs": [
        {
          "output_type": "stream",
          "text": [
            "32\n",
            "32\n",
            "[46 43 39]\n",
            "[158 156 145]\n",
            "[215 219 219]\n",
            "[46 43 39]\n",
            "[158 156 145]\n",
            "[108 103  86]\n",
            "[158 156 145]\n",
            "[46 43 39]\n",
            "[158 156 145]\n",
            "[108 103  86]\n",
            "[0. 1. 0. 0.]\n",
            "[1. 0. 0. 0.]\n",
            "[0. 0. 1. 0.]\n",
            "[0. 1. 0. 0.]\n",
            "[1. 0. 0. 0.]\n",
            "[0. 0. 0. 1.]\n",
            "[1. 0. 0. 0.]\n",
            "[0. 1. 0. 0.]\n",
            "[1. 0. 0. 0.]\n",
            "[0. 0. 0. 1.]\n"
          ],
          "name": "stdout"
        }
      ]
    },
    {
      "cell_type": "code",
      "metadata": {
        "colab": {
          "base_uri": "https://localhost:8080/",
          "height": 1000
        },
        "id": "xLrj3-19OKd2",
        "outputId": "8acae4ed-9491-4990-bed6-a472b93acd69"
      },
      "source": [
        "print(\"first 10 images\")\n",
        "fig = plt.figure(figsize = (9,3))\n",
        "for i in range(0,10):\n",
        "    ax = fig.add_subplot(2,5,i+1)\n",
        "    plt.imshow(tetrachrome[i])\n",
        "    plt.show()\n",
        "\n",
        "#ok so gotta "
      ],
      "execution_count": 59,
      "outputs": [
        {
          "output_type": "stream",
          "text": [
            "first 10 images\n"
          ],
          "name": "stdout"
        },
        {
          "output_type": "display_data",
          "data": {
            "image/png": "[encoded data removed]",
            "text/plain": [
              "<Figure size 648x216 with 1 Axes>"
            ]
          },
          "metadata": {
            "tags": [],
            "needs_background": "light"
          }
        },
        {
          "output_type": "display_data",
          "data": {
            "image/png": "[encoded data removed]",
            "text/plain": [
              "<Figure size 432x288 with 1 Axes>"
            ]
          },
          "metadata": {
            "tags": [],
            "needs_background": "light"
          }
        },
        {
          "output_type": "display_data",
          "data": {
            "image/png": "[encoded data removed]",
            "text/plain": [
              "<Figure size 432x288 with 1 Axes>"
            ]
          },
          "metadata": {
            "tags": [],
            "needs_background": "light"
          }
        },
        {
          "output_type": "display_data",
          "data": {
            "image/png": "[encoded data removed]",
            "text/plain": [
              "<Figure size 432x288 with 1 Axes>"
            ]
          },
          "metadata": {
            "tags": [],
            "needs_background": "light"
          }
        },
        {
          "output_type": "display_data",
          "data": {
            "image/png": "[encoded data removed]",
            "text/plain": [
              "<Figure size 432x288 with 1 Axes>"
            ]
          },
          "metadata": {
            "tags": [],
            "needs_background": "light"
          }
        },
        {
          "output_type": "display_data",
          "data": {
            "image/png": "[encoded data removed]",
            "text/plain": [
              "<Figure size 432x288 with 1 Axes>"
            ]
          },
          "metadata": {
            "tags": [],
            "needs_background": "light"
          }
        },
        {
          "output_type": "display_data",
          "data": {
            "image/png": "[encoded data removed]",
            "text/plain": [
              "<Figure size 432x288 with 1 Axes>"
            ]
          },
          "metadata": {
            "tags": [],
            "needs_background": "light"
          }
        },
        {
          "output_type": "display_data",
          "data": {
            "image/png": "[encoded data removed]",
            "text/plain": [
              "<Figure size 432x288 with 1 Axes>"
            ]
          },
          "metadata": {
            "tags": [],
            "needs_background": "light"
          }
        },
        {
          "output_type": "display_data",
          "data": {
            "image/png": "[encoded data removed]",
            "text/plain": [
              "<Figure size 432x288 with 1 Axes>"
            ]
          },
          "metadata": {
            "tags": [],
            "needs_background": "light"
          }
        },
        {
          "output_type": "display_data",
          "data": {
            "image/png": "[encoded data removed]",
            "text/plain": [
              "<Figure size 432x288 with 1 Axes>"
            ]
          },
          "metadata": {
            "tags": [],
            "needs_background": "light"
          }
        }
      ]
    },
    {
      "cell_type": "code",
      "metadata": {
        "colab": {
          "base_uri": "https://localhost:8080/",
          "height": 919
        },
        "id": "t5sgy4B9SG_z",
        "outputId": "f8e44857-8d33-4f24-a0c2-bea868e0dd27"
      },
      "source": [
        "#source: https://scikit-image.org/docs/dev/auto_examples/color_exposure/plot_rgb_to_gray.html\n",
        "#Part e \n",
        "from skimage.color import rgb2gray\n",
        "grayscale = np.zeros(shape = (6000,32,32))\n",
        "\n",
        "for i in range(0,6000):\n",
        "    original = tb[i]\n",
        "    grayscale[i] = rgb2gray(original)\n",
        "print(grayscale.shape)\n",
        "\n",
        "for i in range(0,3):\n",
        "    fig, axes = plt.subplots(1, 2, figsize=(8, 4))\n",
        "    ax = axes.ravel()\n",
        "    \n",
        "    ax[0].imshow(tb[i])\n",
        "    ax[0].set_title(\"Original\")\n",
        "    ax[1].imshow(grayscale[i], cmap=plt.cm.gray)\n",
        "    ax[1].set_title(\"Grayscale\")\n",
        "    \n",
        "    fig.tight_layout()\n",
        "    plt.show()\n",
        "    \n",
        "\n",
        "    \n"
      ],
      "execution_count": 60,
      "outputs": [
        {
          "output_type": "stream",
          "text": [
            "(6000, 32, 32)\n"
          ],
          "name": "stdout"
        },
        {
          "output_type": "display_data",
          "data": {
            "image/png": "[encoded data removed]",
            "text/plain": [
              "<Figure size 576x288 with 2 Axes>"
            ]
          },
          "metadata": {
            "tags": [],
            "needs_background": "light"
          }
        },
        {
          "output_type": "display_data",
          "data": {
            "image/png": "[encoded data removed]",
            "text/plain": [
              "<Figure size 576x288 with 2 Axes>"
            ]
          },
          "metadata": {
            "tags": [],
            "needs_background": "light"
          }
        },
        {
          "output_type": "display_data",
          "data": {
            "image/png": "[encoded data removed]",
            "text/plain": [
              "<Figure size 576x288 with 2 Axes>"
            ]
          },
          "metadata": {
            "tags": [],
            "needs_background": "light"
          }
        }
      ]
    },
    {
      "cell_type": "code",
      "metadata": {
        "colab": {
          "base_uri": "https://localhost:8080/"
        },
        "id": "Cy_HHcdLVA6G",
        "outputId": "d225940c-b00e-4033-c113-9217db94d876"
      },
      "source": [
        "#using resource: https://keras.io/examples/cifar10_cnn/\n",
        "\n",
        "epochs = 5\n",
        "number_of_classes = 4\n",
        "from keras.utils import to_categorical\n",
        "#one-hot encode target column\n",
        "#y_train = to_categorical(y_train)\n",
        "#y_test = to_categorical(y_test)\n",
        "print(x_train.shape[1:])\n",
        "\n",
        "model = Sequential()\n",
        "#sequential lets us build the model layer by layer\n",
        "\n",
        "#first layer\n",
        "##################################################\n",
        "# model.add(Conv2D(32, (5,5), padding='same',\n",
        "#                  input_shape=x_train.shape[1:]))\n",
        "#why does it have to be shape[1:]?\n",
        "model.add(Conv2D(32, (5,5), padding='same',\n",
        "                 batch_size = 6000, input_shape=(32,32,1))) #add dim 1 because it helps keras?\n",
        "##################################################\n",
        "model.add(Activation('relu'))\n",
        "\n",
        "\n",
        "\n",
        "#2nd layer\n",
        "# model.add(Conv2D(32, (5,5), padding='same'))\n",
        "# model.add(Activation('relu'))\n",
        "#ConV2D because our images are represented 2D; 5x5 is the mask shape (filter shape?)\n",
        "\n",
        "#3rd layer (MLP??)\n",
        "# model.add(MaxPooling2D(pool_size=(2, 2)))\n",
        "# model.add(Dropout(0.4))\n",
        "\n",
        "#4th layer\n",
        "# model.add(MaxPooling2D(pool_size=(2, 2)))\n",
        "# model.add(Dropout(0.4))\n",
        "\n",
        "#######################################\n",
        "model.add(Flatten())\n",
        "# model.add(Dense(512)) #(this is half of 32 *32, not sure what that means)\n",
        "# model.add(Activation('relu'))\n",
        "# model.add(Dropout(0.5))\n",
        "# model.add(Dense(number_of_classes))\n",
        "#######################################\n",
        "\n",
        "#######################################\n",
        "model.add(Dense(4096, activation='softmax')) #i think this is right and it's activation will be softmax\n",
        "#######################################\n",
        "# model.add(Activation('softmax'))\n",
        "#softmax output\n",
        "\n",
        "# initiate RMSprop optimizer\n",
        "opt = keras.optimizers.RMSprop(learning_rate=0.001, decay=1e-6)\n",
        "\n",
        "# it didn't like loss = cross_entropy for some reason!\n",
        "model.compile(loss='categorical_crossentropy',\n",
        "              optimizer=opt,\n",
        "              metrics=['accuracy'])\n",
        "\n",
        "model.summary()\n",
        "print('model compiled')\n"
      ],
      "execution_count": 61,
      "outputs": [
        {
          "output_type": "stream",
          "text": [
            "(32, 32, 3)\n",
            "Model: \"sequential_5\"\n",
            "_________________________________________________________________\n",
            "Layer (type)                 Output Shape              Param #   \n",
            "=================================================================\n",
            "conv2d_14 (Conv2D)           (6000, 32, 32, 32)        832       \n",
            "_________________________________________________________________\n",
            "activation_2 (Activation)    (6000, 32, 32, 32)        0         \n",
            "_________________________________________________________________\n",
            "flatten_5 (Flatten)          (6000, 32768)             0         \n",
            "_________________________________________________________________\n",
            "dense_14 (Dense)             (6000, 4096)              134221824 \n",
            "=================================================================\n",
            "Total params: 134,222,656\n",
            "Trainable params: 134,222,656\n",
            "Non-trainable params: 0\n",
            "_________________________________________________________________\n",
            "model compiled\n"
          ],
          "name": "stdout"
        }
      ]
    },
    {
      "cell_type": "code",
      "metadata": {
        "colab": {
          "base_uri": "https://localhost:8080/"
        },
        "id": "0kMthx-Y9oPe",
        "outputId": "6dba82df-0b42-4da5-ec19-27eed1e2d85d"
      },
      "source": [
        "colors = 4\r\n",
        "model = Sequential()\r\n",
        "model.add(Conv2D(128, \r\n",
        "                    kernel_size=(5, 5), \r\n",
        "                    strides=1, \r\n",
        "                    input_shape=(32, 32, 1),\r\n",
        "                    padding='same',\r\n",
        "                    activation='relu'))\r\n",
        "model.add(MaxPooling2D(pool_size=(2, 2),\r\n",
        "                          padding='same'))\r\n",
        "\r\n",
        "model.add(Conv2D(128, \r\n",
        "                    kernel_size=(5, 5),\r\n",
        "                    strides=1, \r\n",
        "                    padding='same',\r\n",
        "                    activation='relu'))\r\n",
        "model.add(MaxPooling2D(pool_size=(2, 2),\r\n",
        "                          padding='same'))\r\n",
        "\r\n",
        "#############################################\r\n",
        "model.add(Conv2D(128, \r\n",
        "                    kernel_size=(5, 5),\r\n",
        "                    strides=1, \r\n",
        "                    padding='same',\r\n",
        "                    activation='relu'))\r\n",
        "model.add(MaxPooling2D(pool_size=(2, 2),\r\n",
        "                          padding='same'))\r\n",
        "##############################################\r\n",
        "\r\n",
        "#############################################\r\n",
        "model.add(Conv2D(128, \r\n",
        "                    kernel_size=(5, 5),\r\n",
        "                    strides=1, \r\n",
        "                    padding='same',\r\n",
        "                    activation='relu'))\r\n",
        "model.add(MaxPooling2D(pool_size=(2, 2),\r\n",
        "                          padding='same'))\r\n",
        "##############################################\r\n",
        "\r\n",
        "model.add(Flatten())\r\n",
        "\r\n",
        "model.add(Dense(2048, \r\n",
        "                   activation = 'relu'))\r\n",
        "\r\n",
        "#############################################\r\n",
        "model.add(Dense(2048, \r\n",
        "                   activation = 'relu'))\r\n",
        "##############################################\r\n",
        "\r\n",
        "#############################################\r\n",
        "model.add(Dense(2048, \r\n",
        "                   activation = 'relu'))\r\n",
        "##############################################\r\n",
        "\r\n",
        "model.add(Dense(1024*colors, \r\n",
        "                   activation = 'softmax'))\r\n",
        "\r\n",
        "model.summary()\r\n",
        "# model.compile(optimizer=opt, \r\n",
        "#                  loss='categorical_crossentropy', \r\n",
        "#                  metrics=['accuracy'])\r\n",
        "\r\n",
        "\r\n",
        "# keras.optimizers.Adam(lr=0.000000001)\r\n",
        "opt = tf.keras.optimizers.SGD(learning_rate=0.000001)\r\n",
        "model.compile(optimizer=opt, \r\n",
        "                 loss='categorical_crossentropy', \r\n",
        "                 metrics=['accuracy'])"
      ],
      "execution_count": 65,
      "outputs": [
        {
          "output_type": "stream",
          "text": [
            "Model: \"sequential_7\"\n",
            "_________________________________________________________________\n",
            "Layer (type)                 Output Shape              Param #   \n",
            "=================================================================\n",
            "conv2d_19 (Conv2D)           (None, 32, 32, 128)       3328      \n",
            "_________________________________________________________________\n",
            "max_pooling2d_16 (MaxPooling (None, 16, 16, 128)       0         \n",
            "_________________________________________________________________\n",
            "conv2d_20 (Conv2D)           (None, 16, 16, 128)       409728    \n",
            "_________________________________________________________________\n",
            "max_pooling2d_17 (MaxPooling (None, 8, 8, 128)         0         \n",
            "_________________________________________________________________\n",
            "conv2d_21 (Conv2D)           (None, 8, 8, 128)         409728    \n",
            "_________________________________________________________________\n",
            "max_pooling2d_18 (MaxPooling (None, 4, 4, 128)         0         \n",
            "_________________________________________________________________\n",
            "conv2d_22 (Conv2D)           (None, 4, 4, 128)         409728    \n",
            "_________________________________________________________________\n",
            "max_pooling2d_19 (MaxPooling (None, 2, 2, 128)         0         \n",
            "_________________________________________________________________\n",
            "flatten_7 (Flatten)          (None, 512)               0         \n",
            "_________________________________________________________________\n",
            "dense_19 (Dense)             (None, 2048)              1050624   \n",
            "_________________________________________________________________\n",
            "dense_20 (Dense)             (None, 2048)              4196352   \n",
            "_________________________________________________________________\n",
            "dense_21 (Dense)             (None, 2048)              4196352   \n",
            "_________________________________________________________________\n",
            "dense_22 (Dense)             (None, 4096)              8392704   \n",
            "=================================================================\n",
            "Total params: 19,068,544\n",
            "Trainable params: 19,068,544\n",
            "Non-trainable params: 0\n",
            "_________________________________________________________________\n"
          ],
          "name": "stdout"
        }
      ]
    },
    {
      "cell_type": "code",
      "metadata": {
        "id": "B8so-8kGChIA"
      },
      "source": [
        "\r\n"
      ],
      "execution_count": null,
      "outputs": []
    },
    {
      "cell_type": "code",
      "metadata": {
        "id": "mLMaCS9ACtoE"
      },
      "source": [
        ""
      ],
      "execution_count": null,
      "outputs": []
    },
    {
      "cell_type": "code",
      "metadata": {
        "colab": {
          "base_uri": "https://localhost:8080/"
        },
        "id": "fH2z19QcbtiQ",
        "outputId": "5db65c39-06b3-4244-89e1-3c0c307dc93b"
      },
      "source": [
        "#Issues running\n",
        "from keras.utils import to_categorical\n",
        "\n",
        "print('training')\n",
        "y_train = keras.utils.to_categorical(y_train)\n",
        "y_test = keras.utils.to_categorical(y_test)\n",
        "print(grayscale.shape)\n",
        "print(greyTrainBirdFeatures.shape)\n",
        "print(pixelMainColors.shape)\n",
        "grayscale_train = grayscale[:5000]\n",
        "grayscale_test = grayscale[5000:6000]\n",
        "grayscale_test2 = grayscale_test[:,:,:,np.newaxis]\n",
        "print(grayscale_train.shape)\n",
        "grayscale_train2 = grayscale_train[:,:,:,np.newaxis]\n",
        "print(grayscale_train2.shape)\n",
        "print('\\n\\n')\n",
        "print(pixelMainColors.shape)\n",
        "print(cifarDataX.shape[0])\n",
        "tetra_train = tetra[:5000]\n",
        "tetra_train = np.array(tetra_train)\n",
        "tetra_train = np.reshape(tetra_train, (5000, 32*32*4))\n",
        "##############################################\n",
        "trained_network = model.fit(grayscale_train2, \n",
        "                       tetra_train,\n",
        "                       epochs=20, \n",
        "                       shuffle=True,\n",
        "                       verbose=1,\n",
        "                       validation_split=0.1)\n",
        "################################################\n",
        "\n",
        "# test_scores = model.evaluate(x_test, y_test, verbose=1)\n",
        "# print('Test loss:', test_scores[0])\n",
        "# print('Test accuracy:', test_scores[1])\n"
      ],
      "execution_count": 66,
      "outputs": [
        {
          "output_type": "stream",
          "text": [
            "training\n",
            "(6000, 32, 32)\n",
            "(5000, 32, 32, 1)\n",
            "(6000, 4096)\n",
            "(5000, 32, 32)\n",
            "(5000, 32, 32, 1)\n",
            "\n",
            "\n",
            "\n",
            "(6000, 4096)\n",
            "6000\n",
            "Epoch 1/20\n",
            "141/141 [==============================] - 2s 14ms/step - loss: 8517.3855 - accuracy: 0.0000e+00 - val_loss: 8517.3857 - val_accuracy: 0.0000e+00\n",
            "Epoch 2/20\n",
            "141/141 [==============================] - 2s 11ms/step - loss: 8517.3784 - accuracy: 0.0000e+00 - val_loss: 8517.3799 - val_accuracy: 0.0000e+00\n",
            "Epoch 3/20\n",
            "141/141 [==============================] - 2s 11ms/step - loss: 8517.3743 - accuracy: 0.0000e+00 - val_loss: 8517.3770 - val_accuracy: 0.0000e+00\n",
            "Epoch 4/20\n",
            "141/141 [==============================] - 2s 11ms/step - loss: 8517.3709 - accuracy: 0.0000e+00 - val_loss: 8517.3711 - val_accuracy: 0.0000e+00\n",
            "Epoch 5/20\n",
            "141/141 [==============================] - 2s 11ms/step - loss: 8517.3691 - accuracy: 0.0000e+00 - val_loss: 8517.3662 - val_accuracy: 0.0000e+00\n",
            "Epoch 6/20\n",
            "141/141 [==============================] - 2s 11ms/step - loss: 8517.3635 - accuracy: 0.0000e+00 - val_loss: 8517.3623 - val_accuracy: 0.0000e+00\n",
            "Epoch 7/20\n",
            "141/141 [==============================] - 2s 11ms/step - loss: 8517.3593 - accuracy: 0.0000e+00 - val_loss: 8517.3574 - val_accuracy: 0.0000e+00\n",
            "Epoch 8/20\n",
            "141/141 [==============================] - 2s 11ms/step - loss: 8517.3521 - accuracy: 0.0000e+00 - val_loss: 8517.3525 - val_accuracy: 0.0000e+00\n",
            "Epoch 9/20\n",
            "141/141 [==============================] - 2s 11ms/step - loss: 8517.3473 - accuracy: 0.0000e+00 - val_loss: 8517.3477 - val_accuracy: 0.0000e+00\n",
            "Epoch 10/20\n",
            "141/141 [==============================] - 2s 11ms/step - loss: 8517.3410 - accuracy: 0.0000e+00 - val_loss: 8517.3428 - val_accuracy: 0.0000e+00\n",
            "Epoch 11/20\n",
            "141/141 [==============================] - 2s 11ms/step - loss: 8517.3345 - accuracy: 0.0000e+00 - val_loss: 8517.3389 - val_accuracy: 0.0000e+00\n",
            "Epoch 12/20\n",
            "141/141 [==============================] - 2s 11ms/step - loss: 8517.3336 - accuracy: 0.0000e+00 - val_loss: 8517.3330 - val_accuracy: 0.0000e+00\n",
            "Epoch 13/20\n",
            "141/141 [==============================] - 2s 11ms/step - loss: 8517.3267 - accuracy: 0.0000e+00 - val_loss: 8517.3291 - val_accuracy: 0.0000e+00\n",
            "Epoch 14/20\n",
            "141/141 [==============================] - 2s 11ms/step - loss: 8517.3220 - accuracy: 0.0000e+00 - val_loss: 8517.3252 - val_accuracy: 0.0000e+00\n",
            "Epoch 15/20\n",
            "141/141 [==============================] - 2s 11ms/step - loss: 8517.3184 - accuracy: 0.0000e+00 - val_loss: 8517.3193 - val_accuracy: 0.0000e+00\n",
            "Epoch 16/20\n",
            "141/141 [==============================] - 2s 11ms/step - loss: 8517.3147 - accuracy: 0.0000e+00 - val_loss: 8517.3154 - val_accuracy: 0.0000e+00\n",
            "Epoch 17/20\n",
            "141/141 [==============================] - 2s 11ms/step - loss: 8517.3053 - accuracy: 0.0000e+00 - val_loss: 8517.3086 - val_accuracy: 0.0000e+00\n",
            "Epoch 18/20\n",
            "141/141 [==============================] - 2s 11ms/step - loss: 8517.2985 - accuracy: 0.0000e+00 - val_loss: 8517.3057 - val_accuracy: 0.0000e+00\n",
            "Epoch 19/20\n",
            "141/141 [==============================] - 2s 11ms/step - loss: 8517.3029 - accuracy: 0.0000e+00 - val_loss: 8517.3008 - val_accuracy: 0.0000e+00\n",
            "Epoch 20/20\n",
            "141/141 [==============================] - 2s 11ms/step - loss: 8517.2951 - accuracy: 0.0000e+00 - val_loss: 8517.2969 - val_accuracy: 0.0000e+00\n"
          ],
          "name": "stdout"
        }
      ]
    },
    {
      "cell_type": "code",
      "metadata": {
        "id": "bjnYJy1ZnHDm"
      },
      "source": [
        "\r\n",
        "plt.plot(trained_network.history['loss'], label='Training Loss')\r\n",
        "plt.plot(trained_network.history['val_loss'], label='Validation Loss')\r\n",
        "plt.title('Training Loss vs Validation Loss')\r\n",
        "plt.ylabel('Loss')\r\n",
        "plt.xlabel('Epoch')\r\n",
        "plt.legend()\r\n",
        "plt.show()"
      ],
      "execution_count": null,
      "outputs": []
    },
    {
      "cell_type": "code",
      "metadata": {
        "id": "wuq7QqTCntbm"
      },
      "source": [
        "grayscale_test = grayscale[5000:6000]\r\n",
        "grayscale_test2 = grayscale_test[:,:,:,np.newaxis]\r\n",
        "# predictedNNTest =  trained_network.predict(greyTestBirdFeatures[:10])\r\n",
        "predictions_on_test =  model.predict(grayscale_test2[:10])\r\n",
        "\r\n",
        "predictedTestImages = np.reshape(predictions_on_test,(10240, colors))\r\n",
        "outputImages = []\r\n",
        "for pixel in predictedTestImages:\r\n",
        "    outputImages.append(main_colors[np.argmax(pixel)])\r\n",
        "outputImages = np.reshape(outputImages,(10,32,32,3))"
      ],
      "execution_count": null,
      "outputs": []
    },
    {
      "cell_type": "code",
      "metadata": {
        "id": "SwAWp0cktgHz"
      },
      "source": [
        ""
      ],
      "execution_count": null,
      "outputs": []
    }
  ]
}